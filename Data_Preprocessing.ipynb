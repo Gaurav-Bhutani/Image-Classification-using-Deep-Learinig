# Importing Libraries
import numpy as np  # Used for array operations.
import os  # Used for Specifying the location of the images.
import cv2  # Used for Images processing. LIke: Convert images into arrays.
from tqdm import tqdm  # It is a progress bar, Used to track the estimated remaining time.
import random  # To shuffle the dataset.
import pickle  # To save the data or Trained Deep learning model in the File.


# Importing datasets into the variable DATADIR
DATADIR ='./Dataset/Train_Validate_Dataset/'
CATEGORIES = ["With_Mask", "Without_Mask"]


# Function definition
training_data = []
def creating_training_data(IMG_SIZE):
    for category in CATEGORIES:
        path = os.path.join(DATADIR, category)  # Joining two different path where images of "With & Without_Mask" are present.
        class_num = CATEGORIES.index(category)  # Find index of the class.
        for img in tqdm(os.listdir(path)):  # listing all images present in the folder.
            try:  # Error handling.
                img_array = cv2.imread(os.path.join(path, img))  # Reading RGB image.
                new_array = cv2.resize(img_array,(IMG_SIZE, IMG_SIZE))  # Resize all images to equal size. So Deep Learning model can understand it.
                training_data.append([new_array, class_num])  # Saving all images with their corresponding class labels.
            except Exception as e:
                pass


# Calling function
IMG_SIZE = 100
creating_training_data(IMG_SIZE)  # Calling Training Function & Passing same height and width to resize the image.


# Number of Preprocessed data
print(len(training_data))  # Printing Length of the training dataset.


# Shuffling and printing 20 samples for verification
random.shuffle(training_data)
for sample in training_data[:20]:
    print(sample[1], end=' ')


# Initilizing all features & labels of the processed image in the list X & Y
X = []
Y = []
for features, label in training_data:
    X.append(features)
    Y.append(label)


# Converting List into Numpy Array for faster calculation & it also take less space.
X = np.array(X).reshape(-1, IMG_SIZE, IMG_SIZE, 3)  # -1 is added to solve dimension mismatch while converting list to an array.
Y = np.array(Y)


# Storing preprocessed features
pickle_out = open('./Dataset/X.pickle', 'wb')
pickle.dump(X, pickle_out)  # Storing Features
pickle_out.close()


# Storing preprocessed labels
pickle_out = open('./Dataset/Y.pickle', 'wb')
pickle.dump(Y, pickle_out)  # Storing Labels
pickle_out.close()

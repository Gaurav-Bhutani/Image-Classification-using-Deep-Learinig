# Importing library
import cv2
import tensorflow as tf
from tensorflow.keras.models import load_model
import matplotlib.pyplot as plt  # Used for plotting the graph.
import matplotlib.image as mpimg


# Classes of the image
CATEGORIES = ["With_Mask", "Without_Mask"]


# Preprocessing image for testing
def prepare(image):
    IMG_SIZE = 100
    img_array = cv2.imread(image)  # Reading color image.
    new_array = cv2.resize(img_array,(IMG_SIZE, IMG_SIZE))  # Resize image.
    return new_array.reshape(-1,IMG_SIZE, IMG_SIZE,3)  # -1 is added to solve dimension mismatch.


# Change image name want to predict
test_image = './Dataset/Test_Dataset/98.jpg'


# Loading model 
new_model = tf.keras.models.load_model('./My_Model/My_Model.h5')
prediction = new_model.predict([prepare(test_image)])


# Displaying the test image with prediction result
display_img = mpimg.imread(test_image)
plt.imshow(display_img)
plt.title(CATEGORIES[int(prediction)])
plt.show()
